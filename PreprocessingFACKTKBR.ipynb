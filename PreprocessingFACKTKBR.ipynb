{
 "cells": [
  {
   "cell_type": "markdown",
   "metadata": {},
   "source": [
    "## Libs"
   ]
  },
  {
   "cell_type": "code",
   "execution_count": 1,
   "metadata": {},
   "outputs": [
    {
     "name": "stderr",
     "output_type": "stream",
     "text": [
      "[nltk_data] Downloading package punkt to\n",
      "[nltk_data]     C:\\Users\\josev\\AppData\\Roaming\\nltk_data...\n",
      "[nltk_data]   Package punkt is already up-to-date!\n",
      "[nltk_data] Downloading package stopwords to\n",
      "[nltk_data]     C:\\Users\\josev\\AppData\\Roaming\\nltk_data...\n",
      "[nltk_data]   Package stopwords is already up-to-date!\n"
     ]
    },
    {
     "data": {
      "text/plain": [
       "True"
      ]
     },
     "execution_count": 1,
     "metadata": {},
     "output_type": "execute_result"
    }
   ],
   "source": [
    "import pandas as pd\n",
    "from sklearn.feature_extraction.text import TfidfVectorizer\n",
    "from sklearn.preprocessing import Normalizer\n",
    "import nltk\n",
    "from nltk.corpus import stopwords\n",
    "from nltk.tokenize import word_tokenize\n",
    "from nltk.stem import PorterStemmer\n",
    "import string\n",
    "import re\n",
    "from sklearn.model_selection import train_test_split\n",
    "\n",
    "nltk.download('punkt')\n",
    "nltk.download('stopwords')"
   ]
  },
  {
   "cell_type": "markdown",
   "metadata": {},
   "source": [
    "## Dataset Info"
   ]
  },
  {
   "cell_type": "code",
   "execution_count": 2,
   "metadata": {},
   "outputs": [],
   "source": [
    "df = pd.read_csv(r'D:\\CoDes\\FACTCKBR.tsv', delimiter='\\t')"
   ]
  },
  {
   "cell_type": "code",
   "execution_count": 3,
   "metadata": {},
   "outputs": [
    {
     "name": "stdout",
     "output_type": "stream",
     "text": [
      "                                                 URL                  Author  \\\n",
      "0  https://aosfatos.org/noticias/governo-bolsonar...  https:www.aosfatos.org   \n",
      "1  https://aosfatos.org/noticias/nao-e-miriam-lei...  https:www.aosfatos.org   \n",
      "2  https://aosfatos.org/noticias/nao-e-verdade-qu...  https:www.aosfatos.org   \n",
      "3  https://aosfatos.org/noticias/nao-e-de-mulher-...  https:www.aosfatos.org   \n",
      "4  https://aosfatos.org/noticias/e-falso-que-refo...  https:www.aosfatos.org   \n",
      "\n",
      "  datePublished                                      claimReviewed  \\\n",
      "0    2019-07-22  Espaço dedicado para os eleitores do Bolsonaro...   \n",
      "1    2019-07-22  Vos apresento a funcionária protegida pela Glo...   \n",
      "2    2019-07-22  Você sabia que Benedita da Silva já foi embaix...   \n",
      "3    2019-07-18  QUEM  A MULHER QUE EMPURROU O PADRE MARCELO ROSSI   \n",
      "4    2019-07-17  As crueldades da Reforma da PrevidênciaPessoas...   \n",
      "\n",
      "                                          reviewBody  \\\n",
      "0  Publicações que circulam nas redes sociais vej...   \n",
      "1  Uma foto de um treinamento de defesa contra as...   \n",
      "2   falsa a informação de que a deputada federal ...   \n",
      "3  Modificada digitalmente para incluir o filtro ...   \n",
      "4  Uma publicação que circula nas redes sociais a...   \n",
      "\n",
      "                                               title  ratingValue  bestRating  \\\n",
      "0  Governo Bolsonaro não suspendeu distribuição d...          1.0           5   \n",
      "1  Não é Miriam Leitão quem segura fuzil ao lado ...          1.0           5   \n",
      "2  Não é verdade que Benedita da Silva foi embaix...          1.0           5   \n",
      "3  Não é de mulher que empurrou padre Marcelo Ros...          1.0           5   \n",
      "4  É falso que reforma tira de pessoas com defici...          1.0           5   \n",
      "\n",
      "  alternativeName  \n",
      "0           falso  \n",
      "1           falso  \n",
      "2           falso  \n",
      "3           falso  \n",
      "4           falso  \n",
      "<class 'pandas.core.frame.DataFrame'>\n",
      "RangeIndex: 1313 entries, 0 to 1312\n",
      "Data columns (total 9 columns):\n",
      " #   Column           Non-Null Count  Dtype  \n",
      "---  ------           --------------  -----  \n",
      " 0   URL              1313 non-null   object \n",
      " 1   Author           1313 non-null   object \n",
      " 2   datePublished    1313 non-null   object \n",
      " 3   claimReviewed    1300 non-null   object \n",
      " 4   reviewBody       1301 non-null   object \n",
      " 5   title            1313 non-null   object \n",
      " 6   ratingValue      1309 non-null   float64\n",
      " 7   bestRating       1313 non-null   int64  \n",
      " 8   alternativeName  1309 non-null   object \n",
      "dtypes: float64(1), int64(1), object(7)\n",
      "memory usage: 92.4+ KB\n",
      "None\n"
     ]
    }
   ],
   "source": [
    "print(df.head())\n",
    "print(df.info())"
   ]
  },
  {
   "cell_type": "code",
   "execution_count": 4,
   "metadata": {},
   "outputs": [
    {
     "data": {
      "text/plain": [
       "URL                 984\n",
       "Author                3\n",
       "datePublished       772\n",
       "claimReviewed      1291\n",
       "reviewBody          774\n",
       "title               984\n",
       "ratingValue           9\n",
       "bestRating            3\n",
       "alternativeName      18\n",
       "dtype: int64"
      ]
     },
     "execution_count": 4,
     "metadata": {},
     "output_type": "execute_result"
    }
   ],
   "source": [
    "# Para obter o número de valores únicos em cada coluna\n",
    "valores_unicos = df.nunique()\n",
    "valores_unicos"
   ]
  },
  {
   "cell_type": "code",
   "execution_count": 5,
   "metadata": {},
   "outputs": [
    {
     "name": "stdout",
     "output_type": "stream",
     "text": [
      "URL                 0\n",
      "Author              0\n",
      "datePublished       0\n",
      "claimReviewed      13\n",
      "reviewBody         12\n",
      "title               0\n",
      "ratingValue         4\n",
      "bestRating          0\n",
      "alternativeName     4\n",
      "dtype: int64\n"
     ]
    }
   ],
   "source": [
    "valores_ausentes_por_coluna = df.isna().sum()\n",
    "print(valores_ausentes_por_coluna)"
   ]
  },
  {
   "cell_type": "code",
   "execution_count": 6,
   "metadata": {},
   "outputs": [
    {
     "data": {
      "text/plain": [
       "array(['falso', 'distorcido', 'impreciso', 'exagerado', 'insustentável',\n",
       "       'verdadeiro', 'outros', 'Falso', 'Subestimado', 'Verdadeiro',\n",
       "       'Exagerado', 'Impossível provar', 'Discutível', 'Sem contexto',\n",
       "       nan, 'Distorcido', 'De olho', 'Verdadeiro, mas',\n",
       "       'Ainda é cedo para dizer'], dtype=object)"
      ]
     },
     "execution_count": 6,
     "metadata": {},
     "output_type": "execute_result"
    }
   ],
   "source": [
    "valores_unicos = df['alternativeName'].unique()\n",
    "valores_unicos"
   ]
  },
  {
   "cell_type": "markdown",
   "metadata": {},
   "source": [
    "## Pre-Processing"
   ]
  },
  {
   "cell_type": "code",
   "execution_count": 7,
   "metadata": {},
   "outputs": [
    {
     "name": "stdout",
     "output_type": "stream",
     "text": [
      "URL                0\n",
      "Author             0\n",
      "datePublished      0\n",
      "claimReviewed      0\n",
      "reviewBody         0\n",
      "title              0\n",
      "ratingValue        0\n",
      "bestRating         0\n",
      "alternativeName    0\n",
      "dtype: int64\n"
     ]
    }
   ],
   "source": [
    "# Dropar linhas onde alguma das colunas é NaN\n",
    "df = df.dropna()\n",
    "valores_ausentes_por_coluna = df.isna().sum()\n",
    "print(valores_ausentes_por_coluna)"
   ]
  },
  {
   "cell_type": "code",
   "execution_count": 8,
   "metadata": {},
   "outputs": [],
   "source": [
    "# Inicializar o stemmer e stopwords\n",
    "stop_words = set(stopwords.words('portuguese'))\n",
    "stemmer = PorterStemmer()"
   ]
  },
  {
   "cell_type": "code",
   "execution_count": 9,
   "metadata": {},
   "outputs": [],
   "source": [
    "def clean_text(text):\n",
    "    # Remover números\n",
    "    text = re.sub(r'\\d+', '', text)\n",
    "    # Converter para minúsculas\n",
    "    text = text.lower()\n",
    "    # Remover pontuação\n",
    "    text = text.translate(str.maketrans('', '', string.punctuation))\n",
    "\n",
    "    return text\n",
    "\n",
    "# Função para processar texto\n",
    "def process_text(text):\n",
    "    text = clean_text(text)\n",
    "    tokens = [word for word in word_tokenize(text) if word not in stop_words]\n",
    "    stemmed = [stemmer.stem(word) for word in tokens]\n",
    "    return ' '.join(stemmed)"
   ]
  },
  {
   "cell_type": "code",
   "execution_count": 10,
   "metadata": {},
   "outputs": [],
   "source": [
    "columns_to_process = [\n",
    "    'URL', \n",
    "    'Author', \n",
    "    'claimReviewed', \n",
    "    'reviewBody', \n",
    "    'title', \n",
    "    'alternativeName'\n",
    "]"
   ]
  },
  {
   "cell_type": "code",
   "execution_count": 11,
   "metadata": {},
   "outputs": [
    {
     "data": {
      "text/html": [
       "<div>\n",
       "<style scoped>\n",
       "    .dataframe tbody tr th:only-of-type {\n",
       "        vertical-align: middle;\n",
       "    }\n",
       "\n",
       "    .dataframe tbody tr th {\n",
       "        vertical-align: top;\n",
       "    }\n",
       "\n",
       "    .dataframe thead th {\n",
       "        text-align: right;\n",
       "    }\n",
       "</style>\n",
       "<table border=\"1\" class=\"dataframe\">\n",
       "  <thead>\n",
       "    <tr style=\"text-align: right;\">\n",
       "      <th></th>\n",
       "      <th>URL</th>\n",
       "      <th>Author</th>\n",
       "      <th>datePublished</th>\n",
       "      <th>claimReviewed</th>\n",
       "      <th>reviewBody</th>\n",
       "      <th>title</th>\n",
       "      <th>ratingValue</th>\n",
       "      <th>bestRating</th>\n",
       "      <th>alternativeName</th>\n",
       "    </tr>\n",
       "  </thead>\n",
       "  <tbody>\n",
       "    <tr>\n",
       "      <th>0</th>\n",
       "      <td>httpsaosfatosorgnoticiasgovernobolsonaronaosus...</td>\n",
       "      <td>httpswwwaosfatosorg</td>\n",
       "      <td>2019-07-22</td>\n",
       "      <td>espaço dedicado eleitor bolsonaro explicarem r...</td>\n",
       "      <td>publicaçõ circulam rede sociai veja aqui engan...</td>\n",
       "      <td>governo bolsonaro suspendeu distribuição insul...</td>\n",
       "      <td>1.0</td>\n",
       "      <td>5</td>\n",
       "      <td>falso</td>\n",
       "    </tr>\n",
       "    <tr>\n",
       "      <th>1</th>\n",
       "      <td>httpsaosfatosorgnoticiasnaoemiriamleitaoquemse...</td>\n",
       "      <td>httpswwwaosfatosorg</td>\n",
       "      <td>2019-07-22</td>\n",
       "      <td>apresento funcionária protegida globo miriam t...</td>\n",
       "      <td>foto treinamento defesa contra assalto banco o...</td>\n",
       "      <td>miriam leitão segura fuzil lado carlo lamarca ...</td>\n",
       "      <td>1.0</td>\n",
       "      <td>5</td>\n",
       "      <td>falso</td>\n",
       "    </tr>\n",
       "    <tr>\n",
       "      <th>2</th>\n",
       "      <td>httpsaosfatosorgnoticiasnaoeverdadequebenedita...</td>\n",
       "      <td>httpswwwaosfatosorg</td>\n",
       "      <td>2019-07-22</td>\n",
       "      <td>sabia benedita silva embaixadora news york ing...</td>\n",
       "      <td>falsa informação deputada feder benedita silva...</td>\n",
       "      <td>verdad benedita silva embaixadora brasil eua fato</td>\n",
       "      <td>1.0</td>\n",
       "      <td>5</td>\n",
       "      <td>falso</td>\n",
       "    </tr>\n",
       "    <tr>\n",
       "      <th>3</th>\n",
       "      <td>httpsaosfatosorgnoticiasnaoedemulherqueempurro...</td>\n",
       "      <td>httpswwwaosfatosorg</td>\n",
       "      <td>2019-07-18</td>\n",
       "      <td>mulher empurr padr marcelo rossi</td>\n",
       "      <td>modificada digitalment incluir filtro foto ser...</td>\n",
       "      <td>mulher empurr padr marcelo rossi foto filtro ‘...</td>\n",
       "      <td>1.0</td>\n",
       "      <td>5</td>\n",
       "      <td>falso</td>\n",
       "    </tr>\n",
       "    <tr>\n",
       "      <th>4</th>\n",
       "      <td>httpsaosfatosorgnoticiasefalsoquereformatirade...</td>\n",
       "      <td>httpswwwaosfatosorg</td>\n",
       "      <td>2019-07-17</td>\n",
       "      <td>crueldad reforma previdênciapessoa síndrome do...</td>\n",
       "      <td>publicação circula rede sociai afirma reforma ...</td>\n",
       "      <td>falso reforma tira pessoa deficiência direito ...</td>\n",
       "      <td>1.0</td>\n",
       "      <td>5</td>\n",
       "      <td>falso</td>\n",
       "    </tr>\n",
       "    <tr>\n",
       "      <th>...</th>\n",
       "      <td>...</td>\n",
       "      <td>...</td>\n",
       "      <td>...</td>\n",
       "      <td>...</td>\n",
       "      <td>...</td>\n",
       "      <td>...</td>\n",
       "      <td>...</td>\n",
       "      <td>...</td>\n",
       "      <td>...</td>\n",
       "    </tr>\n",
       "    <tr>\n",
       "      <th>1308</th>\n",
       "      <td>httpspiauifolhauolcombrlupaverificamoscarmendo...</td>\n",
       "      <td>httpspiauifolhauolcombrlupa</td>\n",
       "      <td>2018-05-17 15:23:40</td>\n",
       "      <td>cármen lúcia raquel dogd acabam pedir prisão e...</td>\n",
       "      <td>empti</td>\n",
       "      <td>verificamo pgr cármen lúcia pediram prisão ime...</td>\n",
       "      <td>4.0</td>\n",
       "      <td>6</td>\n",
       "      <td>falso</td>\n",
       "    </tr>\n",
       "    <tr>\n",
       "      <th>1309</th>\n",
       "      <td>httpspiauifolhauolcombrlupaverificamosmarinacarta</td>\n",
       "      <td>httpspiauifolhauolcombrlupa</td>\n",
       "      <td>2018-05-16 17:14:19</td>\n",
       "      <td>marina assina carta prol casamento homossexu</td>\n",
       "      <td>empti</td>\n",
       "      <td>verificamo marina assin carta prol casamento h...</td>\n",
       "      <td>4.0</td>\n",
       "      <td>6</td>\n",
       "      <td>falso</td>\n",
       "    </tr>\n",
       "    <tr>\n",
       "      <th>1310</th>\n",
       "      <td>httpspiauifolhauolcombrlupaverificamosdocinoce...</td>\n",
       "      <td>httpspiauifolhauolcombrlupa</td>\n",
       "      <td>2018-05-16 12:00:30</td>\n",
       "      <td>tribun divulga documento prova inocência lula</td>\n",
       "      <td>empti</td>\n",
       "      <td>verificamo decisão tribun df prova inocência lula</td>\n",
       "      <td>4.0</td>\n",
       "      <td>6</td>\n",
       "      <td>falso</td>\n",
       "    </tr>\n",
       "    <tr>\n",
       "      <th>1311</th>\n",
       "      <td>httpspiauifolhauolcombrlupaverificamossurtogri...</td>\n",
       "      <td>httpspiauifolhauolcombrlupa</td>\n",
       "      <td>2018-05-15 13:00:20</td>\n",
       "      <td>direção hospit clínica paulo preocupada nova g...</td>\n",
       "      <td>empti</td>\n",
       "      <td>verificamo vacina contra gripe causa surto mor...</td>\n",
       "      <td>4.0</td>\n",
       "      <td>6</td>\n",
       "      <td>falso</td>\n",
       "    </tr>\n",
       "    <tr>\n",
       "      <th>1312</th>\n",
       "      <td>httpspiauifolhauolcombrlupaverificamossurtogri...</td>\n",
       "      <td>httpspiauifolhauolcombrlupa</td>\n",
       "      <td>2018-05-15 13:00:20</td>\n",
       "      <td>médico quebra silêncio vacina contra gripe cau...</td>\n",
       "      <td>empti</td>\n",
       "      <td>verificamo vacina contra gripe causa surto mor...</td>\n",
       "      <td>4.0</td>\n",
       "      <td>6</td>\n",
       "      <td>falso</td>\n",
       "    </tr>\n",
       "  </tbody>\n",
       "</table>\n",
       "<p>1295 rows × 9 columns</p>\n",
       "</div>"
      ],
      "text/plain": [
       "                                                    URL  \\\n",
       "0     httpsaosfatosorgnoticiasgovernobolsonaronaosus...   \n",
       "1     httpsaosfatosorgnoticiasnaoemiriamleitaoquemse...   \n",
       "2     httpsaosfatosorgnoticiasnaoeverdadequebenedita...   \n",
       "3     httpsaosfatosorgnoticiasnaoedemulherqueempurro...   \n",
       "4     httpsaosfatosorgnoticiasefalsoquereformatirade...   \n",
       "...                                                 ...   \n",
       "1308  httpspiauifolhauolcombrlupaverificamoscarmendo...   \n",
       "1309  httpspiauifolhauolcombrlupaverificamosmarinacarta   \n",
       "1310  httpspiauifolhauolcombrlupaverificamosdocinoce...   \n",
       "1311  httpspiauifolhauolcombrlupaverificamossurtogri...   \n",
       "1312  httpspiauifolhauolcombrlupaverificamossurtogri...   \n",
       "\n",
       "                           Author        datePublished  \\\n",
       "0             httpswwwaosfatosorg           2019-07-22   \n",
       "1             httpswwwaosfatosorg           2019-07-22   \n",
       "2             httpswwwaosfatosorg           2019-07-22   \n",
       "3             httpswwwaosfatosorg           2019-07-18   \n",
       "4             httpswwwaosfatosorg           2019-07-17   \n",
       "...                           ...                  ...   \n",
       "1308  httpspiauifolhauolcombrlupa  2018-05-17 15:23:40   \n",
       "1309  httpspiauifolhauolcombrlupa  2018-05-16 17:14:19   \n",
       "1310  httpspiauifolhauolcombrlupa  2018-05-16 12:00:30   \n",
       "1311  httpspiauifolhauolcombrlupa  2018-05-15 13:00:20   \n",
       "1312  httpspiauifolhauolcombrlupa  2018-05-15 13:00:20   \n",
       "\n",
       "                                          claimReviewed  \\\n",
       "0     espaço dedicado eleitor bolsonaro explicarem r...   \n",
       "1     apresento funcionária protegida globo miriam t...   \n",
       "2     sabia benedita silva embaixadora news york ing...   \n",
       "3                      mulher empurr padr marcelo rossi   \n",
       "4     crueldad reforma previdênciapessoa síndrome do...   \n",
       "...                                                 ...   \n",
       "1308  cármen lúcia raquel dogd acabam pedir prisão e...   \n",
       "1309       marina assina carta prol casamento homossexu   \n",
       "1310      tribun divulga documento prova inocência lula   \n",
       "1311  direção hospit clínica paulo preocupada nova g...   \n",
       "1312  médico quebra silêncio vacina contra gripe cau...   \n",
       "\n",
       "                                             reviewBody  \\\n",
       "0     publicaçõ circulam rede sociai veja aqui engan...   \n",
       "1     foto treinamento defesa contra assalto banco o...   \n",
       "2     falsa informação deputada feder benedita silva...   \n",
       "3     modificada digitalment incluir filtro foto ser...   \n",
       "4     publicação circula rede sociai afirma reforma ...   \n",
       "...                                                 ...   \n",
       "1308                                              empti   \n",
       "1309                                              empti   \n",
       "1310                                              empti   \n",
       "1311                                              empti   \n",
       "1312                                              empti   \n",
       "\n",
       "                                                  title  ratingValue  \\\n",
       "0     governo bolsonaro suspendeu distribuição insul...          1.0   \n",
       "1     miriam leitão segura fuzil lado carlo lamarca ...          1.0   \n",
       "2     verdad benedita silva embaixadora brasil eua fato          1.0   \n",
       "3     mulher empurr padr marcelo rossi foto filtro ‘...          1.0   \n",
       "4     falso reforma tira pessoa deficiência direito ...          1.0   \n",
       "...                                                 ...          ...   \n",
       "1308  verificamo pgr cármen lúcia pediram prisão ime...          4.0   \n",
       "1309  verificamo marina assin carta prol casamento h...          4.0   \n",
       "1310  verificamo decisão tribun df prova inocência lula          4.0   \n",
       "1311  verificamo vacina contra gripe causa surto mor...          4.0   \n",
       "1312  verificamo vacina contra gripe causa surto mor...          4.0   \n",
       "\n",
       "      bestRating alternativeName  \n",
       "0              5           falso  \n",
       "1              5           falso  \n",
       "2              5           falso  \n",
       "3              5           falso  \n",
       "4              5           falso  \n",
       "...          ...             ...  \n",
       "1308           6           falso  \n",
       "1309           6           falso  \n",
       "1310           6           falso  \n",
       "1311           6           falso  \n",
       "1312           6           falso  \n",
       "\n",
       "[1295 rows x 9 columns]"
      ]
     },
     "execution_count": 11,
     "metadata": {},
     "output_type": "execute_result"
    }
   ],
   "source": [
    "for column in columns_to_process:\n",
    "    # Aplicar o pré-processamento em cada coluna\n",
    "    texts = df[column].astype(str).apply(process_text)\n",
    "    \n",
    "    # Converter para DataFrame e adicionar ao dicionário de colunas processadas\n",
    "    df[column] = pd.DataFrame(texts, index=df.index)\n",
    "\n",
    "df"
   ]
  },
  {
   "cell_type": "markdown",
   "metadata": {},
   "source": [
    "## Double Check at Data"
   ]
  },
  {
   "cell_type": "code",
   "execution_count": 14,
   "metadata": {},
   "outputs": [
    {
     "data": {
      "text/plain": [
       "array(['falso', 'distorcido', 'impreciso', 'exagerado', 'insustentável',\n",
       "       'verdadeiro', 'outro', 'subestimado', 'impossível provar',\n",
       "       'discutível', 'contexto', 'olho', 'ainda cedo dizer'], dtype=object)"
      ]
     },
     "execution_count": 14,
     "metadata": {},
     "output_type": "execute_result"
    }
   ],
   "source": [
    "valores_unicos = df['alternativeName'].unique()\n",
    "valores_unicos"
   ]
  },
  {
   "cell_type": "code",
   "execution_count": 15,
   "metadata": {},
   "outputs": [
    {
     "name": "stdout",
     "output_type": "stream",
     "text": [
      "                                                    URL  \\\n",
      "0     httpsaosfatosorgnoticiasgovernobolsonaronaosus...   \n",
      "1     httpsaosfatosorgnoticiasnaoemiriamleitaoquemse...   \n",
      "2     httpsaosfatosorgnoticiasnaoeverdadequebenedita...   \n",
      "3     httpsaosfatosorgnoticiasnaoedemulherqueempurro...   \n",
      "4     httpsaosfatosorgnoticiasefalsoquereformatirade...   \n",
      "...                                                 ...   \n",
      "1308  httpspiauifolhauolcombrlupaverificamoscarmendo...   \n",
      "1309  httpspiauifolhauolcombrlupaverificamosmarinacarta   \n",
      "1310  httpspiauifolhauolcombrlupaverificamosdocinoce...   \n",
      "1311  httpspiauifolhauolcombrlupaverificamossurtogri...   \n",
      "1312  httpspiauifolhauolcombrlupaverificamossurtogri...   \n",
      "\n",
      "                           Author        datePublished  \\\n",
      "0             httpswwwaosfatosorg           2019-07-22   \n",
      "1             httpswwwaosfatosorg           2019-07-22   \n",
      "2             httpswwwaosfatosorg           2019-07-22   \n",
      "3             httpswwwaosfatosorg           2019-07-18   \n",
      "4             httpswwwaosfatosorg           2019-07-17   \n",
      "...                           ...                  ...   \n",
      "1308  httpspiauifolhauolcombrlupa  2018-05-17 15:23:40   \n",
      "1309  httpspiauifolhauolcombrlupa  2018-05-16 17:14:19   \n",
      "1310  httpspiauifolhauolcombrlupa  2018-05-16 12:00:30   \n",
      "1311  httpspiauifolhauolcombrlupa  2018-05-15 13:00:20   \n",
      "1312  httpspiauifolhauolcombrlupa  2018-05-15 13:00:20   \n",
      "\n",
      "                                          claimReviewed  \\\n",
      "0     espaço dedicado eleitor bolsonaro explicarem r...   \n",
      "1     apresento funcionária protegida globo miriam t...   \n",
      "2     sabia benedita silva embaixadora news york ing...   \n",
      "3                      mulher empurr padr marcelo rossi   \n",
      "4     crueldad reforma previdênciapessoa síndrome do...   \n",
      "...                                                 ...   \n",
      "1308  cármen lúcia raquel dogd acabam pedir prisão e...   \n",
      "1309       marina assina carta prol casamento homossexu   \n",
      "1310      tribun divulga documento prova inocência lula   \n",
      "1311  direção hospit clínica paulo preocupada nova g...   \n",
      "1312  médico quebra silêncio vacina contra gripe cau...   \n",
      "\n",
      "                                             reviewBody  \\\n",
      "0     publicaçõ circulam rede sociai veja aqui engan...   \n",
      "1     foto treinamento defesa contra assalto banco o...   \n",
      "2     falsa informação deputada feder benedita silva...   \n",
      "3     modificada digitalment incluir filtro foto ser...   \n",
      "4     publicação circula rede sociai afirma reforma ...   \n",
      "...                                                 ...   \n",
      "1308                                              empti   \n",
      "1309                                              empti   \n",
      "1310                                              empti   \n",
      "1311                                              empti   \n",
      "1312                                              empti   \n",
      "\n",
      "                                                  title  ratingValue  \\\n",
      "0     governo bolsonaro suspendeu distribuição insul...          1.0   \n",
      "1     miriam leitão segura fuzil lado carlo lamarca ...          1.0   \n",
      "2     verdad benedita silva embaixadora brasil eua fato          1.0   \n",
      "3     mulher empurr padr marcelo rossi foto filtro ‘...          1.0   \n",
      "4     falso reforma tira pessoa deficiência direito ...          1.0   \n",
      "...                                                 ...          ...   \n",
      "1308  verificamo pgr cármen lúcia pediram prisão ime...          4.0   \n",
      "1309  verificamo marina assin carta prol casamento h...          4.0   \n",
      "1310  verificamo decisão tribun df prova inocência lula          4.0   \n",
      "1311  verificamo vacina contra gripe causa surto mor...          4.0   \n",
      "1312  verificamo vacina contra gripe causa surto mor...          4.0   \n",
      "\n",
      "      bestRating alternativeName  \n",
      "0              5           falso  \n",
      "1              5           falso  \n",
      "2              5           falso  \n",
      "3              5           falso  \n",
      "4              5           falso  \n",
      "...          ...             ...  \n",
      "1308           6           falso  \n",
      "1309           6           falso  \n",
      "1310           6           falso  \n",
      "1311           6           falso  \n",
      "1312           6           falso  \n",
      "\n",
      "[1295 rows x 9 columns]\n"
     ]
    }
   ],
   "source": [
    "# Dicionário de mapeamento\n",
    "mapping = {\n",
    "    'falso': 'falso',\n",
    "    'distorcido': 'falso',\n",
    "    'impreciso': 'falso',\n",
    "    'exagerado': 'falso',\n",
    "    'insustentável': 'falso',\n",
    "    'verdadeiro': 'verdadeiro',\n",
    "    'outro': 'inconclusivo',\n",
    "    'subestimado': 'inconclusivo',\n",
    "    'impossível provar': 'inconclusivo',\n",
    "    'discutível': 'inconclusivo',\n",
    "    'contexto': 'inconclusivo',\n",
    "    'olho': 'inconclusivo',\n",
    "    'ainda cedo dizer': 'inconclusivo'\n",
    "}\n",
    "\n",
    "# Aplicando o mapeamento\n",
    "df['alternativeName'] = df['alternativeName'].replace(mapping)\n",
    "\n",
    "print(df)"
   ]
  },
  {
   "cell_type": "code",
   "execution_count": 16,
   "metadata": {},
   "outputs": [
    {
     "data": {
      "text/plain": [
       "URL                 969\n",
       "Author                3\n",
       "datePublished       765\n",
       "claimReviewed      1269\n",
       "reviewBody          771\n",
       "title               971\n",
       "ratingValue           9\n",
       "bestRating            3\n",
       "alternativeName       3\n",
       "dtype: int64"
      ]
     },
     "execution_count": 16,
     "metadata": {},
     "output_type": "execute_result"
    }
   ],
   "source": [
    "# Para obter o número de valores únicos em cada coluna\n",
    "valores_unicos = df.nunique()\n",
    "valores_unicos"
   ]
  },
  {
   "cell_type": "markdown",
   "metadata": {},
   "source": [
    "## Spliting and Vetorizing"
   ]
  },
  {
   "cell_type": "code",
   "execution_count": null,
   "metadata": {},
   "outputs": [],
   "source": [
    "train, test = train_test_split(df, test_size=0.2, random_state=42)"
   ]
  },
  {
   "cell_type": "code",
   "execution_count": 13,
   "metadata": {},
   "outputs": [],
   "source": [
    "# # Converter para TF-IDF\n",
    "# vectorizer = TfidfVectorizer()\n",
    "# # Normalizar os dados\n",
    "# normalizer = Normalizer()\n",
    "\n",
    "\n",
    "# train_vectors = vectorizer.fit_transform(train['coluna'])\n",
    "# train_vectors = normalizer.fit_transform(train_vectors)\n",
    "# test_vectors = vectorizer.transform(test['coluna'])\n",
    "# test_vectors = normalizer.transform(test_vectors)"
   ]
  }
 ],
 "metadata": {
  "kernelspec": {
   "display_name": "Python 3",
   "language": "python",
   "name": "python3"
  },
  "language_info": {
   "codemirror_mode": {
    "name": "ipython",
    "version": 3
   },
   "file_extension": ".py",
   "mimetype": "text/x-python",
   "name": "python",
   "nbconvert_exporter": "python",
   "pygments_lexer": "ipython3",
   "version": "3.11.4"
  }
 },
 "nbformat": 4,
 "nbformat_minor": 2
}
