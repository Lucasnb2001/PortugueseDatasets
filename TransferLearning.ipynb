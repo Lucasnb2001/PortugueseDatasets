{
 "cells": [
  {
   "cell_type": "code",
   "execution_count": 1,
   "metadata": {},
   "outputs": [
    {
     "name": "stderr",
     "output_type": "stream",
     "text": [
      "c:\\Python310\\lib\\site-packages\\tqdm\\auto.py:21: TqdmWarning: IProgress not found. Please update jupyter and ipywidgets. See https://ipywidgets.readthedocs.io/en/stable/user_install.html\n",
      "  from .autonotebook import tqdm as notebook_tqdm\n"
     ]
    },
    {
     "name": "stdout",
     "output_type": "stream",
     "text": [
      "No GPU available, using the CPU instead.\n"
     ]
    }
   ],
   "source": [
    "import torch\n",
    "\n",
    "# If there's a GPU available...\n",
    "if torch.cuda.is_available():    \n",
    "\n",
    "    # Tell PyTorch to use the GPU.    \n",
    "    device = torch.device(\"cuda\")\n",
    "\n",
    "    print('There are %d GPU(s) available.' % torch.cuda.device_count())\n",
    "\n",
    "    print('We will use the GPU:', torch.cuda.get_device_name(0))\n",
    "\n",
    "# If not...\n",
    "else:\n",
    "    print('No GPU available, using the CPU instead.')\n",
    "    device = torch.device(\"cpu\")"
   ]
  },
  {
   "cell_type": "code",
   "execution_count": 2,
   "metadata": {},
   "outputs": [
    {
     "name": "stdout",
     "output_type": "stream",
     "text": [
      "Number of training sentences: 7,200\n",
      "\n"
     ]
    },
    {
     "name": "stderr",
     "output_type": "stream",
     "text": [
      "C:\\Users\\Adriano Vieira\\AppData\\Local\\Temp\\ipykernel_15028\\2531505920.py:11: FutureWarning: Downcasting behavior in `replace` is deprecated and will be removed in a future version. To retain the old behavior, explicitly call `result.infer_objects(copy=False)`. To opt-in to the future behavior, set `pd.set_option('future.no_silent_downcasting', True)`\n",
      "  df[\"label\"] = df[\"label\"].replace({\"true\": 1, \"fake\": 0})\n"
     ]
    },
    {
     "data": {
      "text/html": [
       "<div>\n",
       "<style scoped>\n",
       "    .dataframe tbody tr th:only-of-type {\n",
       "        vertical-align: middle;\n",
       "    }\n",
       "\n",
       "    .dataframe tbody tr th {\n",
       "        vertical-align: top;\n",
       "    }\n",
       "\n",
       "    .dataframe thead th {\n",
       "        text-align: right;\n",
       "    }\n",
       "</style>\n",
       "<table border=\"1\" class=\"dataframe\">\n",
       "  <thead>\n",
       "    <tr style=\"text-align: right;\">\n",
       "      <th></th>\n",
       "      <th>text</th>\n",
       "      <th>label</th>\n",
       "    </tr>\n",
       "  </thead>\n",
       "  <tbody>\n",
       "    <tr>\n",
       "      <th>2153</th>\n",
       "      <td>golpe dilma golpista publica diario oficial ex...</td>\n",
       "      <td>0</td>\n",
       "    </tr>\n",
       "    <tr>\n",
       "      <th>7068</th>\n",
       "      <td>coreia norte acusa cia complo assassinar kim m...</td>\n",
       "      <td>1</td>\n",
       "    </tr>\n",
       "    <tr>\n",
       "      <th>2196</th>\n",
       "      <td>ator petralha twitter global tira sarro jornal...</td>\n",
       "      <td>0</td>\n",
       "    </tr>\n",
       "    <tr>\n",
       "      <th>4063</th>\n",
       "      <td>meio polemica envolvendo concessao prisao domi...</td>\n",
       "      <td>1</td>\n",
       "    </tr>\n",
       "    <tr>\n",
       "      <th>663</th>\n",
       "      <td>renan olho cargo alexandre senador intencoes c...</td>\n",
       "      <td>0</td>\n",
       "    </tr>\n",
       "    <tr>\n",
       "      <th>3612</th>\n",
       "      <td>tentarei explicar vem leste europeu albert cam...</td>\n",
       "      <td>1</td>\n",
       "    </tr>\n",
       "    <tr>\n",
       "      <th>2930</th>\n",
       "      <td>jornalista acusa padre reginaldo manzotti engr...</td>\n",
       "      <td>0</td>\n",
       "    </tr>\n",
       "    <tr>\n",
       "      <th>4712</th>\n",
       "      <td>goldman diz psdb nunca embarcou governo michel...</td>\n",
       "      <td>1</td>\n",
       "    </tr>\n",
       "    <tr>\n",
       "      <th>975</th>\n",
       "      <td>linbergh fica nervoso diz sergio abusa autorid...</td>\n",
       "      <td>0</td>\n",
       "    </tr>\n",
       "    <tr>\n",
       "      <th>155</th>\n",
       "      <td>gilmar mendes pede respeito tse chora lembrar ...</td>\n",
       "      <td>0</td>\n",
       "    </tr>\n",
       "  </tbody>\n",
       "</table>\n",
       "</div>"
      ],
      "text/plain": [
       "                                                   text  label\n",
       "2153  golpe dilma golpista publica diario oficial ex...      0\n",
       "7068  coreia norte acusa cia complo assassinar kim m...      1\n",
       "2196  ator petralha twitter global tira sarro jornal...      0\n",
       "4063  meio polemica envolvendo concessao prisao domi...      1\n",
       "663   renan olho cargo alexandre senador intencoes c...      0\n",
       "3612  tentarei explicar vem leste europeu albert cam...      1\n",
       "2930  jornalista acusa padre reginaldo manzotti engr...      0\n",
       "4712  goldman diz psdb nunca embarcou governo michel...      1\n",
       "975   linbergh fica nervoso diz sergio abusa autorid...      0\n",
       "155   gilmar mendes pede respeito tse chora lembrar ...      0"
      ]
     },
     "execution_count": 2,
     "metadata": {},
     "output_type": "execute_result"
    }
   ],
   "source": [
    "import pandas as pd\n",
    "\n",
    "# Load the preprocessed train dataset\n",
    "train_file_path = 'https://raw.githubusercontent.com/EduardoCavValenca/Automatic-Detection-of-Fake-News-in-Portuguese/main/data/csvs/pre_processed.csv'\n",
    "df = pd.read_csv(train_file_path)\n",
    "df.head()\n",
    "\n",
    "# Report the number of sentences.\n",
    "print('Number of training sentences: {:,}\\n'.format(df.shape[0]))\n",
    "\n",
    "df[\"label\"] = df[\"label\"].replace({\"true\": 1, \"fake\": 0})\n",
    "\n",
    "# Display 10 random rows from the data.\n",
    "df.sample(10)"
   ]
  },
  {
   "cell_type": "code",
   "execution_count": 3,
   "metadata": {},
   "outputs": [],
   "source": [
    "\n",
    "# Get the lists of sentences and their labels.\n",
    "sentences = df.text.values\n",
    "labels = df.label.values"
   ]
  },
  {
   "cell_type": "code",
   "execution_count": 7,
   "metadata": {},
   "outputs": [
    {
     "name": "stdout",
     "output_type": "stream",
     "text": [
      "['katia abreu diz vai colocar expulsao moldura nao reclamar senadora katia abreu disse expulsao pmdb resultado acao cupula atual legenda segundo oportunista amanha vou botar moldura dourada expulsao porque maos onde veio atestado boa conduta curriculo pessoas expulsaram nao servem pais servem pais beneficios proprios disse katia abreu ue expulsao algo tao bom curriculo tanta choradeira katia sabemos motivo provavelmente katia nao valor pt partido ja deveria absorvido parece pt gostava katia somente ficasse entrincheirada dentro pmdb rebaixar demais resta katia ficar chorando pitangas todos cantos tempo ate momento pt nao cadastrou katia abreu fileiras situacao patetica agricultura dilma'\n",
      " 'ray peita bolsonaro conservador fake entrevista danilo gentili divide direita site vem avisando jair bolsonaro deveria abandonar pauta estatista vez fazer discurso convincente boa parte liberais conservadores brasil querem ver livres amarras estatais tudo bem pesquisas ainda dizem maior parte povo contra privatizacoes indice pouco povo facil ser revertido ademais bolsonaro deveria falar direitistas vez focar tanto petistas arrependidos recentemente disse pensaria vezes antes privatizar petrobras nao caia maos chineses algo tipo deveria ter dito garanto privatizacao petrobras tambem garanto chineses nao irao nao deixaria brechas jeito falou parece suposto medo venda chineses pretexto evitar privatizacao la direita vai ter adotar alternativas foquem estado reduzido diminuicao impostos venda estatais alem joao amoedo rey fazendo vicejar tipo discurso ainda candidatura fase inicial complicado bolsonaro aparecam pessoas direita propondo visao economicamente direitista economia enfim veja rey espinafrando bolsonaro brechas nao pode reclamar outros aproveitem nao'\n",
      " 'reinaldo azevedo desmascarado policia federal ferrenho critico presidenciavel jair bolsonaro desmascarado grampo telefonico conversas irma aecio neves conversa debochavam juiz sergio moro operacao lava jato agora ficou clara intencao jornalista fazer defesas tao ferrenhas tucanos colunas veja jovem pan amigo intimo familia neves alto tucanato fazia propaganda psdbista inves jornalismo jornalista reinaldo azevedo conversa andrea neves irma senador afastado aecio neves interceptada policia federal assunto tratado sao acusacoes contra aecio contidas delacao odebrecht dialogo classificou reportagem revista veja onde trabalhava demitido nojenta referia edicao trouxe aecio capa titulo vez aecio reinaldo criticou tambem republica rodrigo janot dizia janot atacava aecio supostas pretensoes candidatar governo minas gerais senado assim conversa divulgada colunista demitido veja esperar fez vitima ha agressao garantias profissao menos crime sendo cometido sigilo conversa jornalista fonte pilares jornalismo escreveu gravacoes anexadas republica conjunto audios anexados inquerito provocou afastamento aecio prisao irma sabe breve poderemos ver reinaldo fazendo companhia amigo tucano cadeia'\n",
      " ...\n",
      " 'obstaculos politicos temer especialistas ouvidos avaliam alem ter conter crise economica presidente tera contornar ano vem delacao odebrecht processo tse baixa segundo ano comando palacio planalto presidente michel temer tera desafio driblar serie obstaculos politicos manter governabilidade ter forca congresso nacional aprovar reformas previdenciaria trabalhista avaliam analistas ouvidos peemedebista assumiu presidencia apos impeachment dilma rousseff vira ano cenario politico nebuloso horizonte presidente republica ha preocupacoes imprevisiveis desdobramentos delacoes premiadas executivos odebrecht processo andamento tribunal superior eleitoral tse pode cassar mandato baixissimos indices popularidade registrado ultimos meses temer citado delacao premiada relacoes institucionais odebrecht claudio melo filho segundo empreiteira presidente pediu r milhoes campanhas pmdb fatos sao investigados operacao lava jato alem disso tse apura chapa formada dilma rousseff temer eleicao presidencial cometeu abuso poder economico beneficiou esquema corrupcao atuou petrobras tribunal concluir sim temer podera ser afastado presidencia segundo pesquisa ibope temer aprovacao entrevistados acordo instituto datafolha apenas entrevistados avaliam otima boa gestao peemedebista meio ambiente politico crise governo buscara aprovar congresso nacional longo propostas reforma previdenciaria idade minima anos homens mulheres poderem aposentar trabalhista pontos poderao ser negociados patroes empregados caso acordo passarao ter forca lei professor instituto ciencia politica universidade brasilia unb david fleischer medida sairem conteudos delacoes odebrecht ministro casa civil eliseu padilha secretario programa parcerias investimentos ppi moreira franco dois principais conselheiros temer poderao deixar governo dois tambem sao citados padilha moreira franco podem cair ano vem delacoes vai reforcar necessidade reforma ministerial diz fleischer avaliacao cientista politico fundacao getulio vargas fgv sergio praca agravamento crise politica impopularidade temer deverao resultar impacto negativo ainda maior governo superior ate desgaste causado demora recuperacao economica praca apesar expectativa retomada crescimento mercado ainda nao recuperou crise voltara investir pais ritmo lento esperado ministerio fazenda economia obviamente nao bem crise politica consegue ser pior medidas adotadas crise economica fica pouco dificil cidadao enxergar dia dia so turbulencia causada delacoes indices popularidade devem cair ainda diz cientista alem claudio melo filho outros executivos odebrecht fecharam acordo delacao premiada ministerio publico empreiteira melo filho citou todo politicos partidos quais temer principais assessores presidente citados advogado amigo temer jose yunes despachava palacio planalto pediu demissao cargo assessor especial presidencia dezembro republica pgr ja protocolou supremo tribunal federal stf acordos delacao executivos odebrecht partir fevereiro ministro teori zavascki relator lava jato corte decidira homologa nao acordos sergio praca tendencia ocorram demissoes primeiro escalao governo nucleo proximo temer conteudo delacoes odebrecht vier publico acho temer pensando propria sobrevivencia negocio momento padilha moreira franco sairem temer sai governo pmdb nao temer diz especialista avalia tambem falta hierarquia ocupantes palacio planalto razao proximidade temer alguns ministros nao ha relacao hierarquia temer ministros todos estao mesma estatura acaso temer presidente apos impeachment esquisito tendo configuracao temer sobreviva nao chefe acho ocorram demissoes nao vai adiantar afirma cientista politico professor insper fernando schuler algum ministro envolvido novos escandalos governo devera agir rapido nao repetir reacao caso secretaria governo geddel vieira lima pediu demissao somente semana apos deflagracao crise politica motivada denuncia entao ministro cultura marcelo calero governo nao soube agir geddel nao colaborou presidente deveria ter saido logo assumido responsabilidade deixou governo sangrasse nao aconteceria padilha meio politico expectativa tse julgue acao movida psdb partido pede cassacao chapa elegeu dilma temer sob acusacao campanha epoca cometeu abuso poder economico beneficiou esquema atuou petrobras presidente tse ministro gilmar mendes ja disse inclusao delacoes odebrecht processo podera atrasar julgamento acao mantida tramitacao atual possivel julgar acoes primeiro semestre ano vem recentes entrevistas sobre assunto presidente michel temer dito entrara recursos tanto tse quanto stf considerado culpado cientista politica professora pontificia universidade catolica sao paulo vera chaia acredita tse condene chapa recursos poderao estender processo ate termina mandato temer tse pode condenar chapa sabemos justica brasileira existem varios recursos podem estender ate mandato temer acabar existe desconfianca populacao quanto instituicoes existem recursos apelacoes tudo jogo politico sociedade brasileira nao participa nao conhecimento disse professora fernando schuler insper ve fortes elementos irregularidades probabilidade razoavel chapa ser cassada david fleischer considera improvavel tse decida anulacao chapa eleita razao consequencias politicas economicas pode deixar cenario pior ainda agravar crise economica vai afastar investidores argumenta reformas consideradas prioritarias palacio planalto estao previdencia social trabalhista forma reservada assessores temer dizem governo tambem devera enviar ainda propostas atualizar sistemas tributario politico aprovar propostas temer tentara contar ampla base aliada senado camara cientistas politicos ouvidos eunicio oliveira vencer eleicao presidente senado apoio temer estara garantido camara porem nao ha mesma avaliacao porque atual presidente casa rodrigo maia articula reeleicao enquanto outros deputados base tambem rogerio rosso senado temer nao vai ter problema nenhum camara acredito corra risco rachar base aliada sim la tradicionalmente existem conflitos base temer tao grande voce contenta descontenta outro sao muitas pecas jogo xadrez avalia vera chaia indices popularidade segundo datafolha segundo ibope temer ja disse percentuais abalam nao incomodam governar porque la frente havera reconhecimento medidas adotadas governo vera chaia recesso natal ano novo sera providencial reprovacao temer eleitores dar acalmada fernando schuler vez acredita recuperacao economica podera melhorar ambiente politico'\n",
      " 'setembro boa noite aqui estao principais noticias voce terminar dia joesley batista bem longe tom nao vai ser preso audio entregue descuido rodrigo janot depos hoje defendeu acusacoes irregularidades levaram perda beneficios delacao joesley cima janot hoje fez despedida cargo maximo pgr chega politica sera vai dar neste finde porque comecou rock in rio transmite shows palco principal mexer poderosos donos poder aqui agora disse joesley batista depoimento justica federal reclamou rodrigo janot ter rescindido delacao premiada acho procurador questionado motivo imunidade acho ato covardia fizemos maior importante colaboracao historia afirmou primeira aparicao publica apos ter sido denunciado segunda vez supremo tribunal federal stf presidente michel temer questionado sobre denuncia respondeu relacao hospital apos cerimonia temer deixou instituto falar imprensa embora pulpito preparado deputado cassado eduardo cunha homens poderosos republica atualmente preso parana levado brasilia policia federal prestar depoimento processo sobre desvios nao ainda revelado teor depoimento cunha voltara complexo pinhais pr onde ja detido dueto ivete sangalo gisele bundchen imagine john lennon dado pontape inicial atividades palco principal rock in rio cantora baiana assumiu comando show sequencia mostrou sucessos diversas fases carreira transmite todos shows palco principal inclusive vinte nove pessoas ficaram feridas explosao dentro metro lotado estacao parsons green londres manha nesta sexta nenhuma vitima corre risco morrer acordo servicos emergencia policia trata incidente terrorismo torna explosao desta sexta quinto ataque terrorista ano reino unido chegou final missao anos ajudou desbravar canto via lactea sonda cassini projeto nasa investigou saturno fez nesta sexta ultimo mergulho direcao planeta paises envolvidos projeto investimento us bilhoes cassini agora parte planeta estudou tuitou nasa apos receber ultimo sinal emitido sonda obrigado ciencia caiu ribanceira deixou mortos feridos serra rodovia oswaldo cruz ubatuba litoral sp duas mulheres anos homem morte confirmada turistas aproveitariam feriado aniversario limeira cidade litoral norte sao paulo filme bingo rei manhas indicado brasil disputar vaga tentar faturar estatueta oscar melhor filme estrangeiro producao inspirada vida arlindo barreto palhaco bozo agora bingo tenta vencer longa caminhada ate chegar ser finalistas maior premiacao cinema mundial apreensao obra acusada deputados estaduais delegado mato grosso sul apologia pedofilia considerada procuradora justica jaceguara dantas silva passos agressao arte cultura avaliacao vai contra delegado fabio sampaio declarou apreender quadro existiu sim crime apologia'\n",
      " 'envolvo politica diz brasileiro preso venezuela expulso pais rede social jonatan diniz informou participou protestos observador chorou criancas prisao anunciada postagem rede social madrugada desta segunda designer grafico brasileiro jonatan diniz anos ficou preso venezuela dias disse nao envolve politica participou protestos observador solo venezuelano governo venezuela diz brasileiro presidiria ong fachada verdade membro organizacao criminosa brasileiro familia negam sabado ministro relacoes exteriores aloysio nunes informou meio conta twitter jonatan expulso venezuela prisao anunciada militar politico venezuelano diosdado cabello programa televisao dia dezembro relato jonatan nao confirma onde nao informa detalhes sobre prisao explica morou tres meses venezuela maio agosto periodo conhecido situacao pais meses vivi la justo protestos fortes venezuela ja sim muitos protestos observador jamais toquei arma sim odiei maduro nesse tempo todas bombas lacrimogenas respirar sim vi muita barbaridade tanto lado quanto outro nao chorava noticia jovem assassinado batalhava liberdade pais melhor chorava ver criancas anos prepararem bombas molotov prepararem confrontos detalha ainda relata dezembro voltou venezuela trabalho social passou fim ano decidi ir venezuela doar boa parte maioria verdade dinheiro conquistei trabalho digno iniciar projeto timetochangetheearth junto amigos redor mundo nada doar roupas comidas brinquedos necessitasse realmente precisasse importante tentar alguma maneira mudar mentalidade pessoas tentar encontrar maneira vez guerrear unir partes todos lutarem objetivo diz bem seguranca reservo direito manter sigilo onde onde vou espero compreendam vida pessoal particular disse mensagem manha domingo ja havia dito nao passaria detalhes propria seguranca segundo mae renata diniz filho embarcou voo miami porem nao destino final estao resguardando integridade nao falaram fica la vem brasil disse renata mae ainda informou ainda nao falou filho so recebendo informacoes itamaraty bem seguranca disse ja irmao diz familia fez contato jonatan desde prisao itamaraty vinha relatando dificuldades obter governo venezuelano informacoes sobre paradeiro situacao diniz episodio ocorreu poucos dias inicio crise diplomatica dois paises dezembro governo brasileiro criticou governo nicolas maduro resposta expulsou embaixador brasileiro caracas jonatan natural ijui rio grande sul vive ha menos ano los angeles estados unidos antes morava balneario camboriu onde ainda hoje vive familia irmao jonatan juliano diniz anos disse familia informada sobre prisao amiga designer grafico entrevista dia dezembro juliano classificou acusacao irmao presidente ong fachada chamada time change fundamento venezuela caso complicado explicar sentimentos experiencias venezuelanos atual situacao pais daria livro certamente tentarei resumir post parte situacao acredito pessoas estao prontas receber verdade venezuela primeira vez mochileiro cruzei onibus total paises dias nao engano fiquei dias nessa ocasiao territorio venezuelano venezuela primeiro pais hora havia colocado pe nele ja apartamento alguem jamais havia visto vida comendo arepa comida tipica venezuelana compartilhando boas experiencias cobrarem centavo comida metro menos hospedagem apartamento querido casal somente havia perguntado inicio simples informacao meio rua interei primeiro assim sobre situacao meio cima realmente surpreendeu tantos problemas povo poderia ser tao receptivo amavel sao semanas destino acabei apaixonando venezuelana nao intensao alguma todas noticias tambem nao intensao alguma nunca pessoalmente sair qualquer tipo midia aproveitar dessa situacao algo pessoal fama quer havia imaginado proporcao prisao tornaria namoramos ano todo ano interei sobre venezuela situacao assim dia apos dia pegando carinho pais pessoas terminamos relacao nesse momento viviamos quito equador decidi conta propria ir viver venezuela saber afundo verdade mentira falavam venezuela participei muitos projetos voluntariado filantropia meses la dei bastante suporte parte fotografia sendo fotos usadas diversas instituicoes ate cara muitas vezes saber sendo usada campanhas publicitarias arrecadacao doacoes nunca cobrei centavo nenhuma foto enviei nenhuma foto usaram campanhas tambem pouco importa usaram foto autorizacao porque importante algum jeito pessoas ajudando criancas perigo morte desnutricao doacoes meses vivi la maio agosto justo protestos fortes venezuela ja sim muitos protestos observador jamais toquei arma sim odiei maduro nesse tempo todas bombas lacrimogenas respirar sim vi muita barbaridade tanto lado quanto outro nao chorava noticia jovem assassinado batalhava liberdade pais melhor chorava ver criancas anos prepararem bombas molotov meio avenida prepararem confrontos enquanto via adultos anos olharem situacao nao fazerem merda nenhuma afastar criancas perigo pior tentava falar criancas nao fazerem ainda sofria ameacas verdade todos dias normal chorar umas horas todas manhas acordar antes comecar trabalhar porque impossivel voce ver tanta loucura irresponsabilidade sangue derramado tudo sede poder ambos lados politicos ver jovens somente querem direito viver pais melhor morrerem chorarem ter deixar pais amam porque ja nao dinheiro farinha trigo voce brasileiro vive realidade salario minimo cerca mensais sustentar filhos ja ve apuros sobreviver agora imagina realidade familia venezuela baixa renda salario minimo menos mensais ja pensou voce capaz fazer nao deixar filhos morrerem fome saiba agora voce comece entender porque caracas capital venezuelana cidade perigosa mundo indigna direita faz cagada esquerda faz cagada mundo inteiro ve criancas morrerem fome ninguem faz merda nenhuma ajudar ainda criticam colocam prisao tentam fazer final contas nao so avaliacao respeito venezuelanos estao sofrendo fazendo pais sim avaliacao humanos vendo fazendo respeito nada facil sempre jogar culpa governos sempre facil achar culpado porem ninguem quer culpar proprio espelho situacao caotica mundo vive voce quer mundo melhor voce nao fizer nada conselho esperar governos resolverem situacao fome mundo utopia tentar ser humano fato compartir voce necessita nao obrigacao humanos finalizar passou fim ano decidi ir venezuela doar boa parte maioria verdade dinheiro conquistei trabalho digno iniciar projeto timetochangetheearth junto amigos redor mundo nada doar roupas comidas brinquedos necessitasse realmente precisasse importante tentar alguma maneira mudar mentalidade pessoas tentar encontrar maneira vez guerrear unir partes todos lutarem objetivo nao envolvo politica nao envolvo nenhum desses teatros criados pessoas ocultas fazermos acreditar existe democracia nao lado lado b so nao quero ver criancas morrerem culpa adultos criamos terra sim criamos inferno muitas almas voce comida mesa filho soubesse visse pessoalmente coisas vi entenderia nao ha logica nenhuma voce preocupar dar video game novo filho natal sabendo outra crianca sendo enterrada nao ter centavo dolar nessa ocasiao cerca comprar comida comove uniao povo brasileiro ajudar tirar prisao verdade palavras primeira vez vida vi brasileiros provarmos fortes governos sempre disse sempre vou dizer povo nao deve temer governo governo deve temer povo realidade servir povo povo forca fazer mundo melhor basta movimentarmos nao usarmos somente oracoes sim acoes realidade finalizar reflexao sobre todo ocorrido deus nao pode mudar mundo poder oracoes voce pode mudar mundo poder deus orando principalmente agindo fortissimo abraco todos apoiaram nessa jornada todos fortemente abracados mim deus nao intencao expor vida pessoal promover trabalho tirar qualquer proveito pessoal ocorrido simplesmente ajudo pessoas esperar nada troca ajudar verdade continuarei vida normal sempre peco nao chamem entrevistas algo respeito dizer digo aqui enviarei energia positiva saiba toda repercussao gente acorde comece fazer nao obrigacoes amar proximo ti']\n",
      "[0 0 0 ... 1 1 1]\n"
     ]
    }
   ],
   "source": [
    "print(sentences)\n",
    "print(labels)"
   ]
  },
  {
   "cell_type": "code",
   "execution_count": 8,
   "metadata": {},
   "outputs": [
    {
     "name": "stdout",
     "output_type": "stream",
     "text": [
      "Loading BERT tokenizer...\n"
     ]
    }
   ],
   "source": [
    "from transformers import BertTokenizer\n",
    "\n",
    "# Load the BERT tokenizer.\n",
    "print('Loading BERT tokenizer...')\n",
    "tokenizer = BertTokenizer.from_pretrained('neuralmind/bert-base-portuguese-cased', do_lower_case=True)"
   ]
  },
  {
   "cell_type": "code",
   "execution_count": 9,
   "metadata": {},
   "outputs": [
    {
     "name": "stdout",
     "output_type": "stream",
     "text": [
      " Original:  katia abreu diz vai colocar expulsao moldura nao reclamar senadora katia abreu disse expulsao pmdb resultado acao cupula atual legenda segundo oportunista amanha vou botar moldura dourada expulsao porque maos onde veio atestado boa conduta curriculo pessoas expulsaram nao servem pais servem pais beneficios proprios disse katia abreu ue expulsao algo tao bom curriculo tanta choradeira katia sabemos motivo provavelmente katia nao valor pt partido ja deveria absorvido parece pt gostava katia somente ficasse entrincheirada dentro pmdb rebaixar demais resta katia ficar chorando pitangas todos cantos tempo ate momento pt nao cadastrou katia abreu fileiras situacao patetica agricultura dilma\n",
      "Tokenized:  ['k', '##at', '##ia', 'abre', '##u', 'diz', 'vai', 'colocar', 'expuls', '##ao', 'mol', '##dura', 'na', '##o', 'reclama', '##r', 'senador', '##a', 'k', '##at', '##ia', 'abre', '##u', 'disse', 'expuls', '##ao', 'p', '##m', '##d', '##b', 'resultado', 'aca', '##o', 'cu', '##pula', 'atual', 'legenda', 'segundo', 'oportun', '##ista', 'aman', '##ha', 'vou', 'bot', '##ar', 'mol', '##dura', 'dourada', 'expuls', '##ao', 'porque', 'ma', '##os', 'onde', 'veio', 'ate', '##sta', '##do', 'boa', 'conduta', 'cur', '##ric', '##ulo', 'pessoas', 'expuls', '##aram', 'na', '##o', 'servem', 'pais', 'servem', 'pais', 'benefici', '##os', 'propri', '##os', 'disse', 'k', '##at', '##ia', 'abre', '##u', 'u', '##e', 'expuls', '##ao', 'algo', 'ta', '##o', 'bom', 'cur', '##ric', '##ulo', 'tanta', 'cho', '##rade', '##ira', 'k', '##at', '##ia', 'sabe', '##mos', 'motivo', 'provavelmente', 'k', '##at', '##ia', 'na', '##o', 'valor', 'p', '##t', 'partido', 'ja', 'deveria', 'absor', '##vido', 'parece', 'p', '##t', 'gostava', 'k', '##at', '##ia', 'somente', 'fica', '##s', '##se', 'ent', '##rin', '##che', '##ira', '##da', 'dentro', 'p', '##m', '##d', '##b', 'rebaix', '##ar', 'demais', 'resta', 'k', '##at', '##ia', 'ficar', 'cho', '##rando', 'pi', '##tan', '##gas', 'todos', 'cantos', 'tempo', 'ate', 'momento', 'p', '##t', 'na', '##o', 'cadas', '##trou', 'k', '##at', '##ia', 'abre', '##u', 'fileiras', 'situa', '##ca', '##o', 'pat', '##et', '##ica', 'agricultura', 'dil', '##ma']\n",
      "Token IDs:  [1396, 352, 151, 7674, 22288, 1331, 2541, 7201, 11407, 13793, 3848, 9217, 229, 22280, 15158, 22282, 7347, 22278, 1396, 352, 151, 7674, 22288, 1996, 11407, 13793, 126, 22287, 22284, 22295, 2453, 1334, 22280, 1034, 11312, 2233, 17882, 995, 4272, 384, 22032, 252, 17891, 11967, 159, 3848, 9217, 18458, 11407, 13793, 2113, 223, 128, 582, 3429, 2684, 8849, 243, 3264, 13756, 1273, 1653, 452, 1101, 11407, 490, 229, 22280, 13933, 2639, 13933, 2639, 14312, 128, 2004, 128, 1996, 1396, 352, 151, 7674, 22288, 169, 22279, 11407, 13793, 3233, 316, 22280, 4062, 1273, 1653, 452, 19020, 5334, 8008, 364, 1396, 352, 151, 4178, 793, 5607, 3554, 1396, 352, 151, 229, 22280, 2261, 126, 22286, 3243, 1941, 4360, 6618, 857, 4048, 126, 22286, 14971, 1396, 352, 151, 2529, 1968, 22281, 236, 318, 1471, 2041, 364, 285, 1839, 126, 22287, 22284, 22295, 10468, 159, 3547, 2226, 1396, 352, 151, 4412, 5334, 2537, 13779, 2148, 1557, 944, 18694, 596, 2684, 2182, 126, 22286, 229, 22280, 22150, 4250, 1396, 352, 151, 7674, 22288, 20920, 8121, 304, 22280, 4286, 735, 232, 5956, 13880, 148]\n"
     ]
    }
   ],
   "source": [
    "# Print the original sentence.\n",
    "print(' Original: ', sentences[0])\n",
    "\n",
    "# Print the sentence split into tokens.\n",
    "print('Tokenized: ', tokenizer.tokenize(sentences[0]))\n",
    "\n",
    "# Print the sentence mapped to token ids.\n",
    "print('Token IDs: ', tokenizer.convert_tokens_to_ids(tokenizer.tokenize(sentences[0])))"
   ]
  },
  {
   "cell_type": "code",
   "execution_count": 10,
   "metadata": {},
   "outputs": [
    {
     "name": "stdout",
     "output_type": "stream",
     "text": [
      "Max sentence length:  6837\n"
     ]
    }
   ],
   "source": [
    "max_len = 0\n",
    "\n",
    "# For every sentence...\n",
    "for sent in sentences:\n",
    "\n",
    "    # Tokenize the text and add `[CLS]` and `[SEP]` tokens.\n",
    "    input_ids = tokenizer.encode(sent, add_special_tokens=True)\n",
    "\n",
    "    # Update the maximum sentence length.\n",
    "    max_len = max(max_len, len(input_ids))\n",
    "\n",
    "print('Max sentence length: ', max_len)"
   ]
  },
  {
   "cell_type": "code",
   "execution_count": 11,
   "metadata": {},
   "outputs": [
    {
     "name": "stderr",
     "output_type": "stream",
     "text": [
      "Truncation was not explicitly activated but `max_length` is provided a specific value, please use `truncation=True` to explicitly truncate examples to max length. Defaulting to 'longest_first' truncation strategy. If you encode pairs of sequences (GLUE-style) with the tokenizer you can select this strategy more precisely by providing a specific strategy to `truncation`.\n",
      "c:\\Python310\\lib\\site-packages\\transformers\\tokenization_utils_base.py:2888: FutureWarning: The `pad_to_max_length` argument is deprecated and will be removed in a future version, use `padding=True` or `padding='longest'` to pad to the longest sequence in the batch, or use `padding='max_length'` to pad to a max length. In this case, you can give a specific length with `max_length` (e.g. `max_length=45`) or leave max_length to None to pad to the maximal input size of the model (e.g. 512 for Bert).\n",
      "  warnings.warn(\n"
     ]
    },
    {
     "name": "stdout",
     "output_type": "stream",
     "text": [
      "Original:  katia abreu diz vai colocar expulsao moldura nao reclamar senadora katia abreu disse expulsao pmdb resultado acao cupula atual legenda segundo oportunista amanha vou botar moldura dourada expulsao porque maos onde veio atestado boa conduta curriculo pessoas expulsaram nao servem pais servem pais beneficios proprios disse katia abreu ue expulsao algo tao bom curriculo tanta choradeira katia sabemos motivo provavelmente katia nao valor pt partido ja deveria absorvido parece pt gostava katia somente ficasse entrincheirada dentro pmdb rebaixar demais resta katia ficar chorando pitangas todos cantos tempo ate momento pt nao cadastrou katia abreu fileiras situacao patetica agricultura dilma\n",
      "Token IDs: tensor([  101,  1396,   352,   151,  7674, 22288,  1331,  2541,  7201, 11407,\n",
      "        13793,  3848,  9217,   229, 22280, 15158, 22282,  7347, 22278,  1396,\n",
      "          352,   151,  7674, 22288,  1996, 11407, 13793,   126, 22287, 22284,\n",
      "        22295,  2453,  1334, 22280,  1034, 11312,  2233, 17882,   995,  4272,\n",
      "          384, 22032,   252, 17891, 11967,   159,  3848,  9217, 18458, 11407,\n",
      "        13793,  2113,   223,   128,   582,  3429,  2684,  8849,   243,  3264,\n",
      "        13756,  1273,  1653,   452,  1101, 11407,   490,   229, 22280, 13933,\n",
      "         2639, 13933,  2639, 14312,   128,  2004,   128,  1996,  1396,   352,\n",
      "          151,  7674, 22288,   169, 22279, 11407, 13793,  3233,   316, 22280,\n",
      "         4062,  1273,  1653,   452, 19020,  5334,  8008,   364,  1396,   352,\n",
      "          151,  4178,   793,  5607,  3554,  1396,   352,   151,   229, 22280,\n",
      "         2261,   126, 22286,  3243,  1941,  4360,  6618,   857,  4048,   126,\n",
      "        22286, 14971,  1396,   352,   151,  2529,  1968, 22281,   236,   318,\n",
      "         1471,  2041,   364,   285,  1839,   126, 22287, 22284, 22295, 10468,\n",
      "          159,  3547,  2226,  1396,   352,   151,  4412,  5334,  2537, 13779,\n",
      "         2148,  1557,   944, 18694,   596,  2684,  2182,   126, 22286,   229,\n",
      "        22280, 22150,  4250,  1396,   352,   151,  7674, 22288, 20920,  8121,\n",
      "          304, 22280,  4286,   735,   232,  5956, 13880,   148,   102,     0,\n",
      "            0,     0,     0,     0,     0,     0,     0,     0,     0,     0,\n",
      "            0,     0,     0,     0,     0,     0,     0,     0,     0,     0,\n",
      "            0,     0,     0,     0,     0,     0,     0,     0,     0,     0,\n",
      "            0,     0,     0,     0,     0,     0,     0,     0,     0,     0,\n",
      "            0,     0,     0,     0,     0,     0,     0,     0,     0,     0,\n",
      "            0,     0,     0,     0,     0,     0,     0,     0,     0,     0,\n",
      "            0,     0,     0,     0,     0,     0,     0,     0,     0,     0,\n",
      "            0,     0,     0,     0,     0,     0,     0,     0,     0,     0,\n",
      "            0,     0,     0,     0,     0,     0,     0,     0,     0,     0,\n",
      "            0,     0,     0,     0,     0,     0,     0,     0,     0,     0,\n",
      "            0,     0,     0,     0,     0,     0,     0,     0,     0,     0,\n",
      "            0,     0,     0,     0,     0,     0,     0,     0,     0,     0,\n",
      "            0,     0,     0,     0,     0,     0,     0,     0,     0,     0,\n",
      "            0,     0,     0,     0,     0,     0,     0,     0,     0,     0,\n",
      "            0,     0,     0,     0,     0,     0,     0,     0,     0,     0,\n",
      "            0,     0,     0,     0,     0,     0,     0,     0,     0,     0,\n",
      "            0,     0,     0,     0,     0,     0,     0,     0,     0,     0,\n",
      "            0,     0,     0,     0,     0,     0,     0,     0,     0,     0,\n",
      "            0,     0,     0,     0,     0,     0,     0,     0,     0,     0,\n",
      "            0,     0,     0,     0,     0,     0,     0,     0,     0,     0,\n",
      "            0,     0,     0,     0,     0,     0,     0,     0,     0,     0,\n",
      "            0,     0,     0,     0,     0,     0,     0,     0,     0,     0,\n",
      "            0,     0,     0,     0,     0,     0,     0,     0,     0,     0,\n",
      "            0,     0,     0,     0,     0,     0,     0,     0,     0,     0,\n",
      "            0,     0,     0,     0,     0,     0,     0,     0,     0,     0,\n",
      "            0,     0,     0,     0,     0,     0,     0,     0,     0,     0,\n",
      "            0,     0,     0,     0,     0,     0,     0,     0,     0,     0,\n",
      "            0,     0,     0,     0,     0,     0,     0,     0,     0,     0,\n",
      "            0,     0,     0,     0,     0,     0,     0,     0,     0,     0,\n",
      "            0,     0,     0,     0,     0,     0,     0,     0,     0,     0,\n",
      "            0,     0,     0,     0,     0,     0,     0,     0,     0,     0,\n",
      "            0,     0,     0,     0,     0,     0,     0,     0,     0,     0,\n",
      "            0,     0,     0,     0,     0,     0,     0,     0,     0,     0,\n",
      "            0,     0])\n"
     ]
    }
   ],
   "source": [
    "# Tokenize all of the sentences and map the tokens to thier word IDs.\n",
    "input_ids = []\n",
    "attention_masks = []\n",
    "\n",
    "# For every sentence...\n",
    "for sent in sentences:\n",
    "    # `encode_plus` will:\n",
    "    #   (1) Tokenize the sentence.\n",
    "    #   (2) Prepend the `[CLS]` token to the start.\n",
    "    #   (3) Append the `[SEP]` token to the end.\n",
    "    #   (4) Map tokens to their IDs.\n",
    "    #   (5) Pad or truncate the sentence to `max_length`\n",
    "    #   (6) Create attention masks for [PAD] tokens.\n",
    "    encoded_dict = tokenizer.encode_plus(\n",
    "                        sent,                      # Sentence to encode.\n",
    "                        add_special_tokens = True, # Add '[CLS]' and '[SEP]'\n",
    "                        max_length = 512,           # Pad & truncate all sentences.\n",
    "                        pad_to_max_length = True,\n",
    "                        return_attention_mask = True,   # Construct attn. masks.\n",
    "                        return_tensors = 'pt',     # Return pytorch tensors.\n",
    "                   )\n",
    "    \n",
    "    # Add the encoded sentence to the list.    \n",
    "    input_ids.append(encoded_dict['input_ids'])\n",
    "    \n",
    "    # And its attention mask (simply differentiates padding from non-padding).\n",
    "    attention_masks.append(encoded_dict['attention_mask'])\n",
    "\n",
    "# Convert the lists into tensors.\n",
    "input_ids = torch.cat(input_ids, dim=0)\n",
    "attention_masks = torch.cat(attention_masks, dim=0)\n",
    "labels = torch.tensor(labels)\n",
    "\n",
    "# Print sentence 0, now as a list of IDs.\n",
    "print('Original: ', sentences[0])\n",
    "print('Token IDs:', input_ids[0])"
   ]
  },
  {
   "cell_type": "code",
   "execution_count": 12,
   "metadata": {},
   "outputs": [
    {
     "name": "stdout",
     "output_type": "stream",
     "text": [
      "5,760 training samples\n",
      "  720 validation samples\n",
      "  720 test samples\n"
     ]
    }
   ],
   "source": [
    "from torch.utils.data import TensorDataset, random_split\n",
    "\n",
    "# Combine the training inputs into a TensorDataset.\n",
    "dataset = TensorDataset(input_ids, attention_masks, labels)\n",
    "\n",
    "# Create a 90-10 train-validation split.\n",
    "\n",
    "# Calculate the number of samples to include in each set.\n",
    "train_size = int(0.80 * len(dataset))\n",
    "val_size = (len(dataset) - train_size)//2\n",
    "test_size = (len(dataset) - train_size - val_size)\n",
    "\n",
    "# Divide the dataset by randomly selecting samples.\n",
    "train_dataset, val_dataset, test_dataset = random_split(dataset, [train_size, val_size, test_size])\n",
    "\n",
    "print('{:>5,} training samples'.format(train_size))\n",
    "print('{:>5,} validation samples'.format(val_size))\n",
    "print('{:>5,} test samples'.format(test_size))"
   ]
  },
  {
   "cell_type": "code",
   "execution_count": 13,
   "metadata": {},
   "outputs": [],
   "source": [
    "from torch.utils.data import DataLoader, RandomSampler, SequentialSampler\n",
    "\n",
    "# The DataLoader needs to know our batch size for training, so we specify it \n",
    "# here. For fine-tuning BERT on a specific task, the authors recommend a batch \n",
    "# size of 16 or 32.\n",
    "batch_size = 16\n",
    "\n",
    "# Create the DataLoaders for our training and validation sets.\n",
    "# We'll take training samples in random order. \n",
    "train_dataloader = DataLoader(\n",
    "            train_dataset,  # The training samples.\n",
    "            sampler = RandomSampler(train_dataset), # Select batches randomly\n",
    "            batch_size = batch_size # Trains with this batch size.\n",
    "        )\n",
    "\n",
    "# For validation the order doesn't matter, so we'll just read them sequentially.\n",
    "validation_dataloader = DataLoader(\n",
    "            val_dataset, # The validation samples.\n",
    "            sampler = SequentialSampler(val_dataset), # Pull out batches sequentially.\n",
    "            batch_size = batch_size # Evaluate with this batch size.\n",
    "        )"
   ]
  },
  {
   "cell_type": "code",
   "execution_count": 14,
   "metadata": {},
   "outputs": [
    {
     "name": "stderr",
     "output_type": "stream",
     "text": [
      "Some weights of BertForSequenceClassification were not initialized from the model checkpoint at neuralmind/bert-base-portuguese-cased and are newly initialized: ['classifier.bias', 'classifier.weight']\n",
      "You should probably TRAIN this model on a down-stream task to be able to use it for predictions and inference.\n"
     ]
    }
   ],
   "source": [
    "from transformers import BertForSequenceClassification, AdamW, BertConfig\n",
    "\n",
    "# Load BertForSequenceClassification, the pretrained BERT model with a single \n",
    "# linear classification layer on top. \n",
    "model = BertForSequenceClassification.from_pretrained(\n",
    "    \"neuralmind/bert-base-portuguese-cased\", # Use the 12-layer BERT model, with an uncased vocab.\n",
    "    num_labels = 2, # The number of output labels--2 for binary classification.\n",
    "                    # You can increase this for multi-class tasks.   \n",
    "    output_attentions = False, # Whether the model returns attentions weights.\n",
    "    output_hidden_states = False, # Whether the model returns all hidden-states.\n",
    ")"
   ]
  }
 ],
 "metadata": {
  "kernelspec": {
   "display_name": "Python 3",
   "language": "python",
   "name": "python3"
  },
  "language_info": {
   "codemirror_mode": {
    "name": "ipython",
    "version": 3
   },
   "file_extension": ".py",
   "mimetype": "text/x-python",
   "name": "python",
   "nbconvert_exporter": "python",
   "pygments_lexer": "ipython3",
   "version": "3.10.4"
  }
 },
 "nbformat": 4,
 "nbformat_minor": 2
}
